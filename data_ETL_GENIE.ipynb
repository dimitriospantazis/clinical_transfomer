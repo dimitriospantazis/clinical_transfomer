{
 "cells": [
  {
   "cell_type": "markdown",
   "metadata": {},
   "source": [
    "# Genie data ETL\n",
    "\n",
    "Loads the demographic, mutation, and copy number calls from the AACR project GENIE and converts them to key-value pairs for transformer input.\n",
    "\n",
    "The GENIE data are available from https://www.synapse.org/.\n",
    "\n",
    "First, load the **clinical patient data**. Keep only the columns of interest:\n",
    "- `PATIENT_ID`: Unique identifier for each patient (e.g. 'GENIE-VICC-101416')\n",
    "- `SEX`: Biological sex of the patient (e.g., 'Male', 'Female', 'Unknown').\n",
    "- `PRIMARY_RACE`: Patient's self-reported or recorded primary race (e.g., 'White', 'Black', 'Asian', etc.).\n",
    "- `ETHNICITY`: Patient's self-reported or recorded ethnicity (e.g., 'Non-Spanish/non-Hispanic', 'Unknown')."
   ]
  },
  {
   "cell_type": "code",
   "execution_count": 26,
   "metadata": {},
   "outputs": [
    {
     "name": "stdout",
     "output_type": "stream",
     "text": [
      "Data loaded for 196244 patients\n"
     ]
    }
   ],
   "source": [
    "import pandas as pd\n",
    "import os\n",
    "\n",
    "# Data path\n",
    "data_path = os.path.join(os.getcwd(), 'data', 'genie')\n",
    "\n",
    "# Load clinical patient data with only the columns of interest\n",
    "patient_keep_cols = ['PATIENT_ID', 'SEX', 'PRIMARY_RACE', 'ETHNICITY']\n",
    "clinical_patient_df = pd.read_csv(\n",
    "    os.path.join(data_path, 'data_clinical_patient.txt'),\n",
    "    sep='\\t',\n",
    "    comment=\"#\",\n",
    "    dtype=str,\n",
    "    usecols=patient_keep_cols  # Load only the specified columns\n",
    ")\n",
    "\n",
    "# Print confirmation message with the length of the dataframe\n",
    "print(f\"Data loaded for {len(clinical_patient_df)} patients\")"
   ]
  },
  {
   "cell_type": "markdown",
   "metadata": {},
   "source": [
    "Now load the **clinical sample data** with only the columns of interest:\n",
    "- `PATIENT_ID`: Unique identifier for each patient (e.g. 'GENIE-VICC-101416').\n",
    "- `SAMPLE_ID`: Unique identifier for each sample associated with a patient (e.g., 'GENIE-DFCI-002910-3355').\n",
    "- `CANCER_TYPE`: The type of cancer diagnosed for the patient (e.g., 'Breast Cancer', 'Lung Cancer', etc.).\n",
    "- `AGE_AT_SEQ_REPORT`: Patient's age at the time of sequencing, often used for demographic and survival analyses (e.g. '52', '<18', '>89').\n"
   ]
  },
  {
   "cell_type": "code",
   "execution_count": 27,
   "metadata": {},
   "outputs": [
    {
     "name": "stdout",
     "output_type": "stream",
     "text": [
      "Data loaded for 229453 clinical samples.\n"
     ]
    }
   ],
   "source": [
    "# Load clinical sample data with only the columns of interest\n",
    "sample_keep_cols = ['PATIENT_ID', 'SAMPLE_ID', 'CANCER_TYPE', 'AGE_AT_SEQ_REPORT']\n",
    "clinical_sample_df = pd.read_csv(\n",
    "    os.path.join(data_path, 'data_clinical_sample.txt'),\n",
    "    sep='\\t',\n",
    "    comment=\"#\",\n",
    "    dtype=str,\n",
    "    usecols=sample_keep_cols  # Load only the specified columns\n",
    ")\n",
    "\n",
    "# Print confirmation message with the length of the dataframe\n",
    "print(f\"Data loaded for {len(clinical_sample_df)} clinical samples.\")"
   ]
  },
  {
   "cell_type": "markdown",
   "metadata": {},
   "source": [
    "Load the **mutation data** with only the columns of interest:\n",
    "- `Tumor_Sample_Barcode`: Identifies individual tumor samples (e.g., 'GENIE-DFCI-002910-3355').\n",
    "- `Hugo_Symbol`: Gene names in Hugo Gene Nomenclature Committee (HGNC) format (e.g. 'KRAS', 'BRAF', etc.).\n",
    "- `Variant_Classification`: Type of mutation (e.g., 'Missense_Mutation', 'Nonsense_Mutation', 'Silent', etc.)"
   ]
  },
  {
   "cell_type": "code",
   "execution_count": 28,
   "metadata": {},
   "outputs": [
    {
     "name": "stdout",
     "output_type": "stream",
     "text": [
      "Data loaded for 2266029 mutations.\n"
     ]
    }
   ],
   "source": [
    "# Load mutation data and keep only the columns of interest\n",
    "keep_cols = ['Tumor_Sample_Barcode', 'Hugo_Symbol', 'Variant_Classification']\n",
    "mutations_df = pd.read_csv(\n",
    "    os.path.join(data_path, 'data_mutations_extended.txt'),\n",
    "    sep='\\t',\n",
    "    comment=\"#\",\n",
    "    dtype=str,\n",
    "    usecols=keep_cols  # Load only the specified columns\n",
    ")\n",
    "\n",
    "# Print confirmation message with the length of the dataframe\n",
    "print(f\"Data loaded for {len(mutations_df)} mutations.\")"
   ]
  },
  {
   "cell_type": "markdown",
   "metadata": {},
   "source": [
    "Load the **Copy Number Alteration (CNA) data**.\n",
    "\n",
    "- `Hugo_Symbol`: The gene name based on the Hugo Gene Nomenclature Committee (HGNC) standard.\n",
    "- `Other columns`: Represent tumor sample barcodes, where each column corresponds to a specific sample. The values in these columns indicate the copy number alterations for each gene in the corresponding sample.\n",
    "\n",
    "Key Notes:\n",
    "- The dataset contains a large number of columns (148,925 in this case), which represent gene-wise data for different tumor samples.\n",
    "- You can use the Hugo_Symbol column to identify genes and the sample barcode columns to analyze alterations across different samples.\n"
   ]
  },
  {
   "cell_type": "code",
   "execution_count": 29,
   "metadata": {},
   "outputs": [
    {
     "name": "stdout",
     "output_type": "stream",
     "text": [
      "Data loaded for 148925 CNAs.\n"
     ]
    }
   ],
   "source": [
    "# Load the CNA data\n",
    "cna_df = pd.read_csv(\n",
    "    os.path.join(data_path, 'data_CNA.txt'),\n",
    "    sep='\\t',\n",
    "    comment=\"#\",\n",
    "    dtype=str\n",
    ")\n",
    "\n",
    "# Only use for quick testing, loads a few rows\n",
    "# cna_df = pd.read_csv(os.path.join(data_path,'data_cna.txt'), sep='\\t', nrows=10, comment=\"#\", dtype=str)\n",
    "\n",
    "# Print confirmation message with the length of the dataframe\n",
    "print(f\"Data loaded for {len(cna_df.columns)} CNAs.\")"
   ]
  },
  {
   "cell_type": "markdown",
   "metadata": {},
   "source": [
    "Reshape the **Copy Number Alteration (CNA)** DataFrame from wide format to long format using the `melt` function. This transformation is often used to make the data more suitable for analysis or visualization.\n"
   ]
  },
  {
   "cell_type": "code",
   "execution_count": 30,
   "metadata": {},
   "outputs": [
    {
     "name": "stdout",
     "output_type": "stream",
     "text": [
      "Data loaded for 149221848 CNA values.\n"
     ]
    }
   ],
   "source": [
    "cna_melted = cna_df.melt(\n",
    "    id_vars=[\"Hugo_Symbol\"],     # Columns to keep as-is\n",
    "    var_name=\"SAMPLE_ID\",        # Name for the former column headers\n",
    "    value_name=\"cna_value\"       # Name for the values\n",
    ")\n",
    "\n",
    "# Print confirmation message with the length of the dataframe\n",
    "print(f\"Data loaded for {len(cna_melted)} CNA values.\")"
   ]
  },
  {
   "cell_type": "markdown",
   "metadata": {},
   "source": [
    "Begin merging the tables, starting with the patient and sample clinical data. Use the 'PATIENT_ID' column as the key to combine these datasets."
   ]
  },
  {
   "cell_type": "code",
   "execution_count": 31,
   "metadata": {},
   "outputs": [
    {
     "name": "stdout",
     "output_type": "stream",
     "text": [
      "Merged clinical data for 229453 patients.\n"
     ]
    }
   ],
   "source": [
    "# First, merge patient and sample clinical data\n",
    "clinical_df = pd.merge(clinical_patient_df, clinical_sample_df, on='PATIENT_ID', how='inner')\n",
    "\n",
    "# Print confirmation message\n",
    "print(f\"Merged clinical data for {len(clinical_df)} patients.\")"
   ]
  },
  {
   "cell_type": "markdown",
   "metadata": {},
   "source": [
    "Then merge the mutation data to incorporate columns like \"Hugo_Symbol\" and \"Variant_Classification\".\n",
    "We match 'SAMPLE_ID' (in the clinical table) to 'Tumor_Sample_Barcode' (in the mutation table)."
   ]
  },
  {
   "cell_type": "code",
   "execution_count": 32,
   "metadata": {},
   "outputs": [
    {
     "name": "stdout",
     "output_type": "stream",
     "text": [
      "Merged mutation data for 2290611 entries.\n"
     ]
    }
   ],
   "source": [
    "clinical_mutations_df = pd.merge(\n",
    "    clinical_df,\n",
    "    mutations_df,\n",
    "    left_on='SAMPLE_ID',        \n",
    "    right_on='Tumor_Sample_Barcode',\n",
    "    how='left'\n",
    ")\n",
    "\n",
    "# Print confirmation message\n",
    "print(f\"Merged mutation data for {len(clinical_mutations_df)} entries.\")"
   ]
  },
  {
   "cell_type": "markdown",
   "metadata": {},
   "source": [
    "Merge the **clinical mutations DataFrame** with the **melted CNA DataFrame**. This step combines clinical and mutation data with copy number alteration (CNA) values for each sample and gene.\n",
    "\n",
    "For merging, we use:\n",
    "- SAMPLE_ID: Ensures that rows correspond to the same sample in both datasets.\n",
    "- Hugo_Symbol: Ensures that rows correspond to the same gene in both datasets.\n",
    "Together, these two columns act as a composite key, meaning that both must match between the two datasets for a row to be considered a match.\n"
   ]
  },
  {
   "cell_type": "code",
   "execution_count": 33,
   "metadata": {},
   "outputs": [
    {
     "name": "stdout",
     "output_type": "stream",
     "text": [
      "Merged CNA data for 2290611 entries.\n"
     ]
    }
   ],
   "source": [
    "clinical_mutations_cna_df = pd.merge(\n",
    "    clinical_mutations_df,\n",
    "    cna_melted,\n",
    "    on=[\"SAMPLE_ID\", \"Hugo_Symbol\"],  # Merge on both sample and gene\n",
    "    how=\"left\"  # 'left' keeps all rows from clinical_mutations_df, adds CNA columns if matching\n",
    ")\n",
    "\n",
    "# Print confirmation message\n",
    "print(f\"Merged CNA data for {len(clinical_mutations_cna_df)} entries.\")"
   ]
  },
  {
   "cell_type": "markdown",
   "metadata": {},
   "source": [
    "Now transform data to keep only appropriate values for key-value Transformer input."
   ]
  },
  {
   "cell_type": "code",
   "execution_count": 55,
   "metadata": {},
   "outputs": [
    {
     "name": "stdout",
     "output_type": "stream",
     "text": [
      "Data cleaned for 2290611 entries.\n"
     ]
    }
   ],
   "source": [
    "# Drop the 'Tumor_Sample_Barcode' column since we have 'SAMPLE_ID' now.\n",
    "try:\n",
    "    clinical_mutations_cna_df.drop(columns=['Tumor_Sample_Barcode'], inplace=True)\n",
    "except KeyError:\n",
    "    pass\n",
    "\n",
    "# Replace PRIMARY_RACE 'Not Applicable', 'Not Collected' and 'UNKNOWN' values with 'Unknown'\n",
    "clinical_mutations_cna_df['PRIMARY_RACE'] = clinical_mutations_cna_df['PRIMARY_RACE'].replace('Not Applicable', 'Unknown')\n",
    "clinical_mutations_cna_df['PRIMARY_RACE'] = clinical_mutations_cna_df['PRIMARY_RACE'].replace('Not Collected', 'Unknown')\n",
    "clinical_mutations_cna_df['PRIMARY_RACE'] = clinical_mutations_cna_df['PRIMARY_RACE'].replace('UNKNOWN', 'Unknown')\n",
    "\n",
    "# Replace ETHNICITY 'Not Collected' values with 'Unknown'\n",
    "clinical_mutations_cna_df['ETHNICITY'] = clinical_mutations_cna_df['ETHNICITY'].replace('Not Collected', 'Unknown')\n",
    "clinical_mutations_cna_df['ETHNICITY'] = clinical_mutations_cna_df['ETHNICITY'].replace('UNKNOWN', 'Unknown')\n",
    "\n",
    "# Replace CANCER_TYPE 'UNKNOWN' values with 'Unknown'\n",
    "clinical_mutations_cna_df['CANCER_TYPE'] = clinical_mutations_cna_df['CANCER_TYPE'].replace('UNKNOWN', 'Unknown')\n",
    "\n",
    "# Replace AGE '<18' values with random values between 15 and 18\n",
    "import random\n",
    "clinical_mutations_cna_df['AGE_AT_SEQ_REPORT'] = clinical_mutations_cna_df['AGE_AT_SEQ_REPORT'].apply(\n",
    "    lambda x: str(random.randint(15, 18)) if x == '<18' else x\n",
    ")\n",
    "\n",
    "# Replace AGE '>89' values with random values between 90 and 95\n",
    "clinical_mutations_cna_df['AGE_AT_SEQ_REPORT'] = clinical_mutations_cna_df['AGE_AT_SEQ_REPORT'].apply(\n",
    "    lambda x: str(random.randint(90, 95)) if x == '>89' else x\n",
    ")\n",
    "\n",
    "# Print confirmation message\n",
    "print(f\"Data cleaned for {len(clinical_mutations_cna_df)} entries.\")"
   ]
  },
  {
   "cell_type": "markdown",
   "metadata": {},
   "source": [
    "Now create a dictionary that stores all possible text keys and their text values, to use in a text tokenizer.This will create initial text embeddings that will then be trained with the key-value transformer.\n",
    "\n",
    "This excludes the 'AGE_AT_SEQ_REPORT' values, which are continuous and need to be handled separately."
   ]
  },
  {
   "cell_type": "code",
   "execution_count": 56,
   "metadata": {},
   "outputs": [
    {
     "name": "stdout",
     "output_type": "stream",
     "text": [
      "Constructed key-value features dictionary with 3519 features.\n",
      "\n",
      "First few features:\n",
      "['SEX', 'PRIMARY_RACE', 'ETHNICITY', 'AGE_AT_SEQ_REPORT', 'CANCER_TYPE', 'ARID1A', 'ARID1A_CNA', 'BLM', 'BLM_CNA', 'BRCA2']\n",
      "\n",
      "Some feature values:\n",
      "'SEX': ['Female', 'Male', 'Other']\n",
      "'PRIMARY_RACE': ['White', 'Black', 'Asian', 'Native American', 'Other', 'Pacific Islander']\n",
      "'ETHNICITY': ['Non-Spanish/non-Hispanic', 'Spanish/Hispanic']\n",
      "'CANCER_TYPE': ['Appendiceal Cancer', 'Colorectal Cancer', 'Cancer of Unknown Primary', 'Non-Small Cell Lung Cancer', 'Breast Cancer', 'Soft Tissue Sarcoma', 'Pancreatic Cancer', 'Leukemia', 'Melanoma', 'Salivary Gland Cancer', 'Endometrial Cancer', 'Head and Neck Cancer', 'Skin Cancer, Non-Melanoma', 'Myeloproliferative Neoplasms', 'Adrenocortical Carcinoma', 'Ovarian Cancer', 'Esophagogastric Cancer', 'Myelodysplastic Syndromes', 'Thyroid Cancer', 'Gastrointestinal Stromal Tumor', 'Cervical Cancer', 'Hepatobiliary Cancer', 'Renal Cell Carcinoma', 'Mature T and NK Neoplasms', 'Glioma', 'Prostate Cancer', 'Anal Cancer', 'Uterine Sarcoma', 'Gastrointestinal Neuroendocrine Tumor', 'Bladder Cancer', 'B-Lymphoblastic Leukemia/Lymphoma', 'Small Bowel Cancer', 'Breast Sarcoma', 'Sex Cord Stromal Tumor', 'Myelodysplastic/Myeloproliferative Neoplasms', 'Bone Cancer', 'CNS Cancer', 'Vaginal Cancer', 'Thymic Tumor', 'Ampullary Cancer', 'Small Cell Lung Cancer', 'Miscellaneous Neuroepithelial Tumor', 'Mesothelioma', 'Germ Cell Tumor', 'Gestational Trophoblastic Disease', 'Nerve Sheath Tumor', 'Mature B-Cell Neoplasms', 'Histiocytosis', 'Penile Cancer', 'Peripheral Nervous System', 'Wilms Tumor', 'Pheochromocytoma', 'Miscellaneous Brain Tumor', 'Blood Cancer, NOS', 'Pineal Tumor', 'Mastocytosis', 'Embryonal Tumor', 'Sellar Tumor', 'Non-Hodgkin Lymphoma', 'Adrenocortical Adenoma', 'T-Lymphoblastic Leukemia/Lymphoma', 'Retinoblastoma', 'Hodgkin Lymphoma', 'Testicular Cancer', 'Skin Cancer', 'Lung Cancer', 'Bowel Cancer', 'Uterine Cancer', 'Rhabdoid Cancer', 'Vulvar/Vaginal Cancer', 'Choroid Plexus Tumor', 'Lymphatic Cancer, NOS', 'Esophageal/Stomach Cancer', 'Ovarian/Fallopian Tube Cancer', 'Bladder/Urinary Tract Cancer', 'Blastic Plasmacytoid Dendritic Cell Neoplasm', 'Renal Neuroendocrine Tumor', 'Other Cancer', 'Adenocarcinoma In Situ', 'Tubular Adenoma of the Colon', 'Peritoneal Cancer, NOS', 'Peritoneal Cancer', 'Soft Tissue Cancer', 'Malignant Glomus Tumor', 'Blood Cancer', 'Medulloblastoma', 'Melanocytoma', 'Parathyroid Cancer', 'Primary CNS Melanocytic Tumors', 'Biliary Tract Cancer', 'Angiomatoid Fibrous Histiocytoma', 'Myofibromatosis', 'Clear Cell Sarcoma of Kidney', 'Infantile Fibrosarcoma', 'Undifferentiated Embryonal Sarcoma of the Liver', 'Liver Cancer', 'Desmoplastic/Nodular Medulloblastoma', 'Kidney Cancer', 'Myeloid Neoplasms with Germ Line Predisposition', 'Gastrointestinal Neuroendocrine Tumors of the Esophagus/Stomach', 'Posttransplant Lymphoproliferative Disorders', 'CNS/Brain Cancer', 'Large Cell/Anaplastic Medulloblastoma', 'Lacrimal Gland Tumor', 'Peripheral Nervous System Cancer', 'Eye Cancer', 'Lymphatic Cancer', 'Adrenal Gland Cancer', 'Malignant Rhabdoid Tumor of the Liver', 'Vulvar Carcinoma', 'Sialoblastoma']\n",
      "'KRAS': ['Frame_Shift_Del', 'Missense_Mutation', 'In_Frame_Del', 'Nonsense_Mutation', 'Splice_Site', 'Frame_Shift_Ins', 'In_Frame_Ins', 'Nonstop_Mutation', 'Intron', \"5'Flank\", \"5'UTR\", \"3'UTR\", \"3'Flank\", 'Silent', 'Splice_Region', 'RNA', 'Translation_Start_Site']\n",
      "'KRAS_CNA': ['2', '-2', '-1.5', '1', '-1']\n"
     ]
    }
   ],
   "source": [
    "features = {}\n",
    "\n",
    "# Assign 'SEX' feature to the features dictionary with the possible values\n",
    "features['SEX'] = {\n",
    "    'feature_type': 'categorical',\n",
    "    'values': [val for val in clinical_mutations_cna_df['SEX'].unique() if val != 'Unknown']\n",
    "}\n",
    "\n",
    "# Assign 'PRIMARY_RACE' feature to the features dictionary with the possible values\n",
    "features['PRIMARY_RACE'] = {\n",
    "    'feature_type': 'categorical',\n",
    "    'values': [val for val in clinical_mutations_cna_df['PRIMARY_RACE'].unique() if val != 'Unknown']\n",
    "}\n",
    "\n",
    "# Assign 'ETHNICITY' feature to the features dictionary with the possible values\n",
    "features['ETHNICITY'] = {\n",
    "    'feature_type': 'categorical',\n",
    "    'values': [val for val in clinical_mutations_cna_df['ETHNICITY'].unique() if val != 'Unknown']\n",
    "}\n",
    "\n",
    "# Assign 'AGE_AT_SEQ_REPORT' feature to the features dictionary with the possible values\n",
    "features['AGE_AT_SEQ_REPORT'] = {\n",
    "    'feature_type': 'numerical',\n",
    "    'values': [val for val in clinical_mutations_cna_df['AGE_AT_SEQ_REPORT'].unique() if val != 'Unknown']\n",
    "}\n",
    "\n",
    "# Assign 'CANCER_TYPE' feature to the features dictionary with the possible values\n",
    "features['CANCER_TYPE'] = {\n",
    "    'feature_type': 'categorical',\n",
    "    'values': [val for val in clinical_mutations_cna_df['CANCER_TYPE'].unique() if val != 'Unknown']\n",
    "}\n",
    "\n",
    "# Assign genes (with their 'Hugo_Symbol') to the features dictionary with the possible values\n",
    "variant_classification = [\n",
    "    val for val in clinical_mutations_cna_df['Variant_Classification'].unique()\n",
    "    if val != 'Unknown' and not pd.isna(val)\n",
    "]\n",
    "cna_values = [\n",
    "    val for val in clinical_mutations_cna_df['cna_value'].unique()\n",
    "    if not pd.isna(val) and val != '0'\n",
    "]\n",
    "for gene in clinical_mutations_cna_df['Hugo_Symbol'].dropna().unique():\n",
    "    features[gene] = {\n",
    "        'feature_type': 'categorical',\n",
    "        'values': variant_classification\n",
    "    }   \n",
    "    features[f\"{gene}_CNA\"] = {\n",
    "        'feature_type': 'categorical',\n",
    "        'values': cna_values\n",
    "    }   \n",
    "\n",
    "# save the features dictionary to a json file\n",
    "import json\n",
    "with open(os.path.join(data_path, 'feature_schema.json'), 'w') as f:\n",
    "    json.dump(features, f)\n",
    "\n",
    "# Print confirmation message\n",
    "print(f\"Constructed key-value features dictionary with {len(features)} features.\")\n",
    "print('\\nFirst few features:')\n",
    "print(list(features.keys())[:10])\n",
    "print('\\nSome feature values:')\n",
    "print(f\"'SEX': {features['SEX']['values']}\")\n",
    "print(f\"'PRIMARY_RACE': {features['PRIMARY_RACE']['values']}\")\n",
    "print(f\"'ETHNICITY': {features['ETHNICITY']['values']}\")\n",
    "print(f\"'CANCER_TYPE': {features['CANCER_TYPE']['values']}\")\n",
    "print(f\"'KRAS': {features['KRAS']['values']}\")\n",
    "print(f\"'KRAS_CNA': {features['KRAS_CNA']['values']}\")"
   ]
  },
  {
   "cell_type": "markdown",
   "metadata": {},
   "source": [
    "Finally, generate a dictionary where each patient ID is mapped to a sequence of key-value pairs representing their demographic features, mutations, and copy number alterations (CNA).\n",
    "\n",
    "- Important: Include only mutations and cna values different from 0 or nan. This will lead to variable length sequences in the transformer, but we can also include a PAD token to enable batch processing.\n",
    "- Also ignore cases with 'Unknown' values\n",
    "\n",
    "Result:  \n",
    "patient_sequences[patient_id] is a list of (key, value) pairs, e.g.:  \n",
    "[  \n",
    "  (\"SEX\", \"MALE\"),  \n",
    "  (\"PRIMARY_RACE\", \"WHITE\"),  \n",
    "  ...  \n",
    "  (\"EGFR\", \"Missense_Mutation\"),  # from the mutations  \n",
    "  (\"EGFR_CNA\", \"2.0\"),           # from the cna  \n",
    "  ...  \n",
    "]  \n"
   ]
  },
  {
   "cell_type": "code",
   "execution_count": 59,
   "metadata": {},
   "outputs": [
    {
     "name": "stdout",
     "output_type": "stream",
     "text": [
      "Constructed feature name-value sequences for 193637 patients.\n",
      "Saved the patient sequences to 'patient_sequences.json'.\n"
     ]
    }
   ],
   "source": [
    "# Columns to keep from clinical data as demographic features\n",
    "demographic_cols = [\n",
    "    \"SEX\",\n",
    "    \"PRIMARY_RACE\",\n",
    "    \"ETHNICITY\",\n",
    "    \"AGE_AT_SEQ_REPORT\",\n",
    "    \"CANCER_TYPE\"\n",
    "    # add or remove as needed\n",
    "]\n",
    "\n",
    "# Dictionary: patient_id -> list of (key, value) pairs\n",
    "patient_sequences = {}\n",
    "\n",
    "# Group by patient\n",
    "for patient_id, group in clinical_mutations_cna_df.groupby(\"PATIENT_ID\"):\n",
    "\n",
    "    # 1) DEMOGRAPHIC FEATURES\n",
    "    # Take the first row in this group for demographic columns\n",
    "    first_row = group.iloc[0]\n",
    "    demo_pairs = []\n",
    "    for col in demographic_cols:\n",
    "        val = first_row.get(col, \"Unknown\")\n",
    "        # Skip if 'Unknown'\n",
    "        if val == \"Unknown\":\n",
    "            continue\n",
    "        # Convert AGE_AT_SEQ_REPORT to float, keep others as strings\n",
    "        if col == \"AGE_AT_SEQ_REPORT\":\n",
    "            try:\n",
    "                val = float(val)  # Convert to float if possible\n",
    "            except ValueError:\n",
    "                continue  # Skip if conversion fails (e.g., invalid format)\n",
    "        else:\n",
    "            val = str(val)  # Convert to string for other categories\n",
    "        demo_pairs.append((col, val))\n",
    "    \n",
    "    # 2) MUTATIONS\n",
    "    # Build a dict of gene -> variant classification\n",
    "    gene_to_variant = {}\n",
    "    for _, row in group.iterrows():\n",
    "        gene = row[\"Hugo_Symbol\"]\n",
    "        variant_class = row[\"Variant_Classification\"]\n",
    "\n",
    "        # Skip rows with missing gene name\n",
    "        if pd.isna(gene):\n",
    "            continue\n",
    "        \n",
    "        # If multiple mutations in same gene, choose how to combine or skip\n",
    "        if gene not in gene_to_variant:\n",
    "            gene_to_variant[gene] = variant_class\n",
    "        else:\n",
    "            # e.g. combine variant_class with existing\n",
    "            # gene_to_variant[gene] += \";\" + variant_class\n",
    "            pass\n",
    "\n",
    "    # Create gene-level (key, value) pairs ONLY for mutated genes\n",
    "    # i.e., skipping those without a 'Hugo_Symbol' or 'Variant_Classification'\n",
    "    mutation_pairs = [\n",
    "        (gene, gene_to_variant[gene])\n",
    "        for gene in gene_to_variant\n",
    "        if not pd.isna(gene_to_variant[gene])\n",
    "    ]\n",
    "    \n",
    "    # 3) CNA\n",
    "    # We'll collect gene -> cna_value from the same group\n",
    "    # If a row is NaN or 0, we skip it (depending on your preference)\n",
    "    cna_pairs = []\n",
    "    for _, row in group.iterrows():\n",
    "        gene = row[\"Hugo_Symbol\"]\n",
    "        cna_val = row[\"cna_value\"]  # -2, -1, 0, 1, 2, or NaN, etc.\n",
    "        \n",
    "        # Skip missing genes or missing/neutral calls if only storing altered\n",
    "        if pd.isna(gene) or pd.isna(cna_val) or cna_val == \"0\" or cna_val == 0:\n",
    "            continue\n",
    "        \n",
    "        # Example: store (gene+\"_CNA\", cna_val) to differentiate from mutation pair\n",
    "        cna_pairs.append((gene + \"_CNA\", str(cna_val)))\n",
    "    \n",
    "    # 4) Combine all pairs\n",
    "    kv_sequence = demo_pairs + mutation_pairs + cna_pairs\n",
    "    # skip patients with no data\n",
    "    if len(kv_sequence) <= 3: # only have 'SEX', 'AGE_AT_SEQ', 'CANCER_TYPE'\n",
    "        continue\n",
    "    patient_sequences[patient_id] = kv_sequence\n",
    "\n",
    "# Save the patient sequences to a json file\n",
    "with open(os.path.join(data_path, 'patient_sequences.json'), 'w') as f:\n",
    "    json.dump(patient_sequences, f)\n",
    "\n",
    "# Print confirmation message\n",
    "print(f\"Constructed feature name-value sequences for {len(patient_sequences)} patients.\")\n",
    "print(f\"Saved the patient sequences to 'patient_sequences.json'.\")"
   ]
  },
  {
   "cell_type": "markdown",
   "metadata": {},
   "source": [
    "Now describe the data. For simplicitly, this is done at the end after merging all dataframes instead of individually for each data set."
   ]
  },
  {
   "cell_type": "code",
   "execution_count": 38,
   "metadata": {},
   "outputs": [
    {
     "name": "stdout",
     "output_type": "stream",
     "text": [
      "<class 'pandas.core.frame.DataFrame'>\n",
      "RangeIndex: 2290611 entries, 0 to 2290610\n",
      "Data columns (total 10 columns):\n",
      " #   Column                  Dtype \n",
      "---  ------                  ----- \n",
      " 0   PATIENT_ID              object\n",
      " 1   SEX                     object\n",
      " 2   PRIMARY_RACE            object\n",
      " 3   ETHNICITY               object\n",
      " 4   SAMPLE_ID               object\n",
      " 5   AGE_AT_SEQ_REPORT       object\n",
      " 6   CANCER_TYPE             object\n",
      " 7   Hugo_Symbol             object\n",
      " 8   Variant_Classification  object\n",
      " 9   cna_value               object\n",
      "dtypes: object(10)\n",
      "memory usage: 174.8+ MB\n"
     ]
    },
    {
     "data": {
      "text/plain": [
       "cna_value\n",
       "0       1156642\n",
       "-1        43076\n",
       "1         37054\n",
       "2          7995\n",
       "-2         2198\n",
       "-1.5        174\n",
       "Name: count, dtype: int64"
      ]
     },
     "execution_count": 38,
     "metadata": {},
     "output_type": "execute_result"
    }
   ],
   "source": [
    "clinical_mutations_cna_df.info()\n",
    "clinical_mutations_cna_df.describe(include='object')\n",
    "clinical_mutations_cna_df['cna_value'].value_counts()"
   ]
  }
 ],
 "metadata": {
  "kernelspec": {
   "display_name": "venv_oncology_transformer",
   "language": "python",
   "name": "python3"
  },
  "language_info": {
   "codemirror_mode": {
    "name": "ipython",
    "version": 3
   },
   "file_extension": ".py",
   "mimetype": "text/x-python",
   "name": "python",
   "nbconvert_exporter": "python",
   "pygments_lexer": "ipython3",
   "version": "3.12.6"
  }
 },
 "nbformat": 4,
 "nbformat_minor": 2
}
